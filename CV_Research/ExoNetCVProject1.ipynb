{
 "cells": [
  {
   "cell_type": "markdown",
   "id": "6eeeb719",
   "metadata": {
    "id": "Glr-lDSXcGmW"
   },
   "source": [
    "<font size=\"6\">ExoNet Project 1 CV Research Code</font>\n",
    "\n"
   ]
  },
  {
   "cell_type": "markdown",
   "id": "4c2942b3",
   "metadata": {
    "id": "Glr-lDSXcGmW"
   },
   "source": [
    "<font size=\"4\">Current Task</font>\n",
    "\n"
   ]
  },
  {
   "cell_type": "markdown",
   "id": "15434444",
   "metadata": {
    "id": "Glr-lDSXcGmW"
   },
   "source": [
    "<font size=\"5\">Import PyTorch and other Packages</font>"
   ]
  },
  {
   "cell_type": "markdown",
   "id": "076aeedf",
   "metadata": {
    "id": "Glr-lDSXcGmW"
   },
   "source": [
    "- change kernel to pytorch 3.8 (issue with other versions not having a read_file function"
   ]
  },
  {
   "cell_type": "code",
   "execution_count": 1,
   "id": "2273bad5",
   "metadata": {
    "id": "zAa-ix9sTWV3"
   },
   "outputs": [
    {
     "name": "stdout",
     "output_type": "stream",
     "text": [
      "NVIDIA GeForce RTX 3070\n",
      "1.10.1\n",
      "0.11.2\n"
     ]
    },
    {
     "name": "stderr",
     "output_type": "stream",
     "text": [
      "C:\\Users\\akurb\\anaconda3\\envs\\CV_Research_Run\\lib\\site-packages\\torch\\cuda\\memory.py:384: FutureWarning: torch.cuda.memory_cached has been renamed to torch.cuda.memory_reserved\n",
      "  warnings.warn(\n"
     ]
    }
   ],
   "source": [
    "# from oauth2client.client import GoogleCredentials\n",
    "# import PyTorch\n",
    "# ! pip install pytorch==1.8.1\n",
    "import os\n",
    "import sys\n",
    "# py_dll_path = os.path.join(sys.exec_prefix, 'Library', 'bin')\n",
    "# os.environ['PATH'] += py_dll_path\n",
    "\n",
    "# ! pip install torch==1.9.0\n",
    "# ! pip install torchvision==0.10.0\n",
    "\n",
    "import torch\n",
    "\n",
    "#cuda checklist\n",
    "torch.cuda.is_available()\n",
    "torch.cuda.current_device()\n",
    "print(torch.cuda.get_device_name(0))\n",
    "torch.cuda.memory_allocated()\n",
    "torch.cuda.memory_cached()\n",
    "print(torch.__version__)\n",
    "\n",
    "import torchvision\n",
    "print(torchvision.__version__)\n",
    "import torchvision.transforms as transforms\n",
    "import pandas as pd\n",
    "import numpy as np\n",
    "from PIL import Image\n",
    "from torchvision import transforms\n",
    "from torch.utils.data import DataLoader\n",
    "\n",
    "%config Completer.use_jedi = False\n",
    "\n",
    "# from pydrive.auth import GoogleAuth\n",
    "# from pydrive.drive import GoogleDrive\n",
    "\n",
    "import unittest\n",
    "import subprocess\n",
    "import numpy as np\n",
    "from torch import nn\n",
    "from tqdm import tqdm\n",
    "# from zipfile import ZipFile\n",
    "from PIL import Image\n",
    "from typing import Optional, Callable\n",
    "import matplotlib.pyplot as plt\n",
    "%matplotlib inline\n",
    "from skimage import io, transform\n",
    "from sklearn.model_selection import train_test_split\n",
    "from sklearn.preprocessing import OrdinalEncoder\n",
    "import seaborn as sns\n",
    "from sklearn.metrics import confusion_matrix\n",
    "import torch\n",
    "from torch.utils.data import Dataset, DataLoader\n",
    "import torchvision.transforms.functional as F\n",
    "from torchvision import transforms\n",
    "from torchvision.datasets import ImageFolder\n",
    "from torchvision.utils import draw_segmentation_masks, draw_bounding_boxes\n",
    "# import albumentations as A\n",
    "# from albumentations.pytorch.transforms import ToTensorV2"
   ]
  },
  {
   "cell_type": "markdown",
   "id": "9d97f578",
   "metadata": {
    "id": "Glr-lDSXcGmW"
   },
   "source": [
    "<font size=\"5\">Dataset File Download and Preparation</font>\n",
    "\n"
   ]
  },
  {
   "cell_type": "markdown",
   "id": "3d2a847a",
   "metadata": {
    "id": "Glr-lDSXcGmW"
   },
   "source": [
    "Import Project 1 Dataset zip file from Azure Dataset CloudStorage (Comment out for test)"
   ]
  },
  {
   "cell_type": "code",
   "execution_count": 2,
   "id": "af341f35",
   "metadata": {},
   "outputs": [],
   "source": [
    "# # azureml-core of version 1.0.72 or higher is required\n",
    "# from azureml.core import Workspace, Dataset\n",
    "\n",
    "# subscription_id = '7cb1905b-a1d4-4279-ab8b-8849b50ad375'\n",
    "# resource_group = 'Project-UofT'\n",
    "# workspace_name = 'CV_Research_UofT'\n",
    "\n",
    "# workspace = Workspace(subscription_id, resource_group, workspace_name)\n",
    "\n",
    "# dataset = Dataset.get_by_name(workspace, name='ExoNet_Project1_Test')\n",
    "\n",
    "# if not os.path.exists('ExoNet_Project1_Test.zip'):\n",
    "#     dataset.download(target_path='.', overwrite=False)\n"
   ]
  },
  {
   "cell_type": "markdown",
   "id": "6cff5301",
   "metadata": {
    "id": "Glr-lDSXcGmW"
   },
   "source": [
    "Unzip Project 1 Dataset"
   ]
  },
  {
   "cell_type": "code",
   "execution_count": 3,
   "id": "bcab1e12",
   "metadata": {},
   "outputs": [],
   "source": [
    "# if not os.path.exists('Project1_Sorted_Dataset'):\n",
    "#     ! unzip Project1_Sorted_Dataset.zip "
   ]
  },
  {
   "cell_type": "markdown",
   "id": "d979560a",
   "metadata": {
    "id": "Glr-lDSXcGmW"
   },
   "source": [
    "Import zip Project 1 Test zip file from Azure Dataset CloudStorage (Comment out for large data run)"
   ]
  },
  {
   "cell_type": "code",
   "execution_count": 4,
   "id": "e52f930a",
   "metadata": {},
   "outputs": [],
   "source": [
    "# if not os.path.exists('ExoNet_Project1_Test3.zip'):\n",
    "#     # azureml-core of version 1.0.72 or higher is required\n",
    "#     from azureml.core import Workspace, Dataset\n",
    "\n",
    "#     subscription_id = 'a5115b00-792f-44a5-b5fd-7f65d3a2f0c6'\n",
    "#     resource_group = 'cv_research'\n",
    "#     workspace_name = 'cv_research_project1'\n",
    "\n",
    "#     workspace = Workspace(subscription_id, resource_group, workspace_name)\n",
    "\n",
    "#     dataset = Dataset.get_by_name(workspace, name='ExoNet_Project1_Test')\n",
    "#     dataset.download(target_path='.', overwrite=False)"
   ]
  },
  {
   "cell_type": "markdown",
   "id": "4fb70503",
   "metadata": {
    "id": "Glr-lDSXcGmW"
   },
   "source": [
    "Unzip Test Dataset"
   ]
  },
  {
   "cell_type": "code",
   "execution_count": 5,
   "id": "ecaee120",
   "metadata": {},
   "outputs": [],
   "source": [
    "# if not os.path.exists('ExoNet_Project1_Test2'):\n",
    "#     ! unzip ExoNet_Project1_Test3.zip "
   ]
  },
  {
   "cell_type": "markdown",
   "id": "2913a854",
   "metadata": {
    "id": "Glr-lDSXcGmW"
   },
   "source": [
    "<font size=\"5\">Setting up Database for model training</font>\n",
    "\n"
   ]
  },
  {
   "cell_type": "markdown",
   "id": "3b1ca9cb",
   "metadata": {
    "id": "Glr-lDSXcGmW"
   },
   "source": [
    "ExoNet Dataset class definition\n",
    "To do: \n",
    "- random sample to 224"
   ]
  },
  {
   "cell_type": "code",
   "execution_count": 6,
   "id": "76b2509f",
   "metadata": {},
   "outputs": [],
   "source": [
    "class ExoNetDataset(ImageFolder):\n",
    "\n",
    "    def __init__(self, root: str = \".\", download: bool = False, mode: str = \"train\", shape: int = 256, transform: Optional[Callable] = None, target_transform: Optional[Callable] = None, show: bool = True):\n",
    "        tag = \"ExoNetDataset\"\n",
    "\n",
    "        modes = [\"train\", \"val\", \"test\"]\n",
    "        assert mode in modes, \"Available options for mode: train, val, test\"\n",
    "\n",
    "        self.shape = shape\n",
    "        self.mode = mode\n",
    "        # if download:\n",
    "        #     download_datasets(tag, path=root)\n",
    "        #     extract_zip(os.path.join(root, tag+\".zip\"),\n",
    "        #                 os.path.join(root, tag))\n",
    "\n",
    "        if transform is None:\n",
    "            self.transform = self.default_transform(mode)\n",
    "        else:\n",
    "            self.transform = transform\n",
    "\n",
    "        if target_transform is not None:\n",
    "            self.target_transform = target_transform\n",
    "\n",
    "        if download:\n",
    "            dataset_path = os.path.join(root, tag, \"ExoNet\", mode)\n",
    "        else:\n",
    "            dataset_path = os.path.join(root, mode)\n",
    "\n",
    "        super(ExoNetDataset, self).__init__(\n",
    "            root=dataset_path, transform=self.transform)\n",
    "\n",
    "        if show:\n",
    "            self.visualize_batch()\n",
    "\n",
    "    def __getitem__(self, index):\n",
    "        path, target = self.samples[index]\n",
    "        fname = path.split(\"/\")[-1]\n",
    "        img = self.loader(path)\n",
    "        if self.transform is not None:\n",
    "            img = self.transform(img)\n",
    "        if self.target_transform is not None:\n",
    "            target = self.target_transform(target)\n",
    "        \n",
    "#         print(img, target, fname)\n",
    "        return img, target, fname\n",
    "\n",
    "    def default_transform(self, mode=\"train\"):\n",
    "        if mode == \"train\":\n",
    "            transform = transforms.Compose([\n",
    "                transforms.Resize((self.shape, self.shape)),\n",
    "                transforms.RandomResizedCrop(224),\n",
    "                transforms.RandomHorizontalFlip(),\n",
    "                transforms.ToTensor(),\n",
    "                transforms.Normalize(\n",
    "                    [0.485, 0.456, 0.406],\n",
    "                    [0.229, 0.224, 0.225])\n",
    "            ])\n",
    "\n",
    "        elif mode == 'val' or mode == 'test':\n",
    "            transform = transforms.Compose([\n",
    "                transforms.Resize((self.shape, self.shape)),\n",
    "                transforms.RandomResizedCrop(224),\n",
    "                transforms.RandomHorizontalFlip(),\n",
    "                transforms.ToTensor(),\n",
    "                transforms.Normalize(\n",
    "                    [0.485, 0.456, 0.406],\n",
    "                    [0.229, 0.224, 0.225])\n",
    "            ])\n",
    "\n",
    "        return transform\n",
    "\n",
    "    def visualize_batch(self):\n",
    "        loader = DataLoader(self, batch_size=4, shuffle=True)\n",
    "        inputs, labels, fnames = next(iter(loader))\n",
    "        list_imgs = [inputs[i] for i in range(len(inputs))]\n",
    "\n",
    "        self.show(list_imgs, labels, fnames)\n",
    "\n",
    "    def show(self, imgs, labels, fnames):\n",
    "        if not isinstance(imgs, list):\n",
    "            imgs = [imgs]\n",
    "        fix, axs = plt.subplots(ncols=len(imgs), squeeze=False)\n",
    "        for i, img in enumerate(imgs):\n",
    "\n",
    "            img = img.numpy().transpose((1, 2, 0))\n",
    "            mean = np.array([0.485, 0.456, 0.406])\n",
    "            std = np.array([0.229, 0.224, 0.225])\n",
    "            inp = std * img + mean\n",
    "            inp = np.clip(inp, 0, 1)\n",
    "\n",
    "            axs[0, i].imshow(np.asarray(inp))\n",
    "            axs[0, i].set(xticks=[], yticks=[])\n",
    "            axs[0, i].text(0, -0.2, str(int(labels[i])) + \": \" +\n",
    "                           self.classes[labels[i]], transform=axs[0, i].transAxes)\n",
    "            axs[0, i].set_title(\"...\"+fnames[i][-12:-5])"
   ]
  },
  {
   "cell_type": "markdown",
   "id": "2913a854",
   "metadata": {
    "id": "Glr-lDSXcGmW"
   },
   "source": [
    "<font size=\"5\">Creating Custom Datasets</font>\n",
    "\n"
   ]
  },
  {
   "cell_type": "markdown",
   "id": "7c0560c3",
   "metadata": {
    "id": "Glr-lDSXcGmW"
   },
   "source": [
    "Functionality Test Dataset for Testing Code"
   ]
  },
  {
   "cell_type": "code",
   "execution_count": 7,
   "id": "2846e125",
   "metadata": {},
   "outputs": [
    {
     "data": {
      "image/png": "[encoded data removed]",
      "text/plain": [
       "<Figure size 432x288 with 4 Axes>"
      ]
     },
     "metadata": {},
     "output_type": "display_data"
    }
   ],
   "source": [
    "test_path = r\"D:\\UofT_Project\\ExoNet_Project1_Test2\"\n",
    "\n",
    "func_train_dataset = ExoNetDataset(root=test_path, download=False, mode=\"train\", show=True)\n",
    "func_valid_dataset = ExoNetDataset(root=test_path, download=False, mode=\"val\", show=False)\n",
    "func_test_dataset = ExoNetDataset(root=test_path, download=False, mode=\"test\", show=False)"
   ]
  },
  {
   "cell_type": "code",
   "execution_count": 8,
   "id": "e627f0ca",
   "metadata": {},
   "outputs": [],
   "source": [
    "func_train_loader = DataLoader(func_train_dataset, batch_size=16, shuffle=True, pin_memory=True)\n",
    "func_valid_loader = DataLoader(func_valid_dataset, batch_size=8, shuffle=True, pin_memory=True)\n",
    "func_test_loader = DataLoader(func_test_dataset, batch_size=8, shuffle=True, pin_memory=True)"
   ]
  },
  {
   "cell_type": "markdown",
   "id": "7c0560c3",
   "metadata": {
    "id": "Glr-lDSXcGmW"
   },
   "source": [
    "ExoNet Project 1 Complete Sorted/Randomized Dataset\n",
    "- set batch size to hyperparameter findings before running"
   ]
  },
  {
   "cell_type": "code",
   "execution_count": 9,
   "id": "2846e125",
   "metadata": {},
   "outputs": [
    {
     "data": {
      "image/png": "[encoded data removed]",
      "text/plain": [
       "<Figure size 432x288 with 4 Axes>"
      ]
     },
     "metadata": {},
     "output_type": "display_data"
    }
   ],
   "source": [
    "_path = \"D:\\Project1_Sorted_Dataset\"\n",
    "\n",
    "test_path = r\"D:\\UofT_Project\\ExoNet_Project1_Test2\"\n",
    "\n",
    "train_dataset = ExoNetDataset(root=_path, download=False, mode=\"train\", show=True)\n",
    "valid_dataset = ExoNetDataset(root=_path, download=False, mode=\"val\", show=False)\n",
    "test_dataset = ExoNetDataset(root=_path, download=False, mode=\"test\", show=False)"
   ]
  },
  {
   "cell_type": "code",
   "execution_count": 10,
   "id": "c8361599",
   "metadata": {},
   "outputs": [],
   "source": [
    "train_loader = DataLoader(train_dataset, batch_size=16, shuffle=True, pin_memory=True)\n",
    "valid_loader = DataLoader(valid_dataset, batch_size=8, shuffle=True, pin_memory=True)\n",
    "test_loader = DataLoader(valid_dataset, batch_size=8, shuffle=True, pin_memory=True)"
   ]
  },
  {
   "cell_type": "markdown",
   "id": "7c0560c3",
   "metadata": {
    "id": "Glr-lDSXcGmW"
   },
   "source": [
    "ExoNet Project 1 Subsets for Hyperparameter Optimization\n",
    "- set batch size before running "
   ]
  },
  {
   "cell_type": "code",
   "execution_count": 11,
   "id": "2846e125",
   "metadata": {},
   "outputs": [],
   "source": [
    "# #10% subset\n",
    "# part_train_dataset = torch.utils.data.random_split(train_dataset, [48586, len(train_dataset)-48586])[0]\n",
    "# part_valid_dataset = torch.utils.data.random_split(valid_dataset, [1900, len(valid_dataset)-1900])[0]\n",
    "\n",
    "#25% subset\n",
    "part_train_dataset = torch.utils.data.random_split(train_dataset, [121467, len(train_dataset)-121467])[0]\n",
    "part_valid_dataset = torch.utils.data.random_split(valid_dataset, [4750, len(valid_dataset)-4750])[0]\n",
    "\n",
    "# #50% subset\n",
    "# part_train_dataset = torch.utils.data.random_split(train_dataset, [242933, len(train_dataset)-242933])[0]\n",
    "# part_valid_dataset = torch.utils.data.random_split(valid_dataset, [9500, len(valid_dataset)-9500])[0]"
   ]
  },
  {
   "cell_type": "code",
   "execution_count": 12,
   "id": "e627f0ca",
   "metadata": {},
   "outputs": [],
   "source": [
    "# batch_size_list = [32, 64, 128, 256]\n",
    "\n",
    "part_train_loader = DataLoader(part_train_dataset, batch_size=32, shuffle=True, pin_memory=True)\n",
    "part_valid_loader = DataLoader(part_valid_dataset, batch_size=32, shuffle=True, pin_memory=True)"
   ]
  },
  {
   "cell_type": "markdown",
   "id": "1ccfa0db",
   "metadata": {
    "id": "Glr-lDSXcGmW"
   },
   "source": [
    "<font size=\"5\">Call model and set parameters</font>\n",
    "\n"
   ]
  },
  {
   "cell_type": "markdown",
   "id": "0e7c37b0",
   "metadata": {},
   "source": [
    "The following calls the model from torchvision models which has a default initialization of the weights to zeros\n",
    "- to initialize the weights between hyperparameter testing call this function"
   ]
  },
  {
   "cell_type": "code",
   "execution_count": 13,
   "id": "ecd22d8d",
   "metadata": {},
   "outputs": [
    {
     "name": "stdout",
     "output_type": "stream",
     "text": [
      "model is ready!\n"
     ]
    }
   ],
   "source": [
    "#model initialization\n",
    "# model = torch.hub.load('pytorch/vision:v0.10.0', 'mobilenet_v2', pretrained=False)\n",
    "model = torchvision.models.mobilenet_v2(pretrained=False)\n",
    "model.__init__\n",
    "gpumodel = model.cuda()\n",
    "print(\"model is ready!\")\n",
    "            \n",
    "optimizer = torch.optim.Adam(gpumodel.parameters(), lr=0.001)\n",
    "schedular = torch.optim.lr_scheduler.ReduceLROnPlateau(optimizer, factor=0.1, patience=3)\n"
   ]
  },
  {
   "cell_type": "markdown",
   "id": "0e7c37b0",
   "metadata": {},
   "source": [
    "Make sure gpumodel is loading corrently on the gpu (should output true)"
   ]
  },
  {
   "cell_type": "code",
   "execution_count": 14,
   "id": "b272b607",
   "metadata": {},
   "outputs": [
    {
     "data": {
      "text/plain": [
       "True"
      ]
     },
     "execution_count": 14,
     "metadata": {},
     "output_type": "execute_result"
    }
   ],
   "source": [
    "next(gpumodel.parameters()).is_cuda"
   ]
  },
  {
   "cell_type": "markdown",
   "id": "1d6d1a70",
   "metadata": {
    "id": "Glr-lDSXcGmW"
   },
   "source": [
    "Loop definitions"
   ]
  },
  {
   "cell_type": "code",
   "execution_count": 15,
   "id": "58c02318",
   "metadata": {},
   "outputs": [],
   "source": [
    "def train_and_val_loop(dataloader, datavalid_loader, gpumodel, loss_fn, optimizer, model_name, min_val_loss):\n",
    "    \n",
    "    size = len(dataloader.dataset)\n",
    "    train_loss = 0.0\n",
    "    loss = 0.0\n",
    "    val_loss = 0.0\n",
    "    train_acc = 0.0\n",
    "    val_acc = 0.0\n",
    "    correct = 0.0\n",
    "    train_correct = 0.0 \n",
    "    train_count = 0.0\n",
    "    val_correct = 0.0 \n",
    "    val_count = 0.0\n",
    "    avg_train_acc, avg_train_loss = 0.0, 0.0\n",
    "    avg_val_acc, avg_val_loss = 0.0, 0.0\n",
    "    \n",
    "    gpumodel.train()\n",
    "    for images,labels,fnames in tqdm(dataloader):\n",
    "        images, labels = images.cuda(), labels.cuda()\n",
    "        # Compute prediction and loss\n",
    "        output = gpumodel(images)\n",
    "        preds = output.max(1).indices\n",
    "        train_loss = loss_fn(output, labels)\n",
    "        # print(preds)\n",
    "        # print(labels)\n",
    "        train_correct += (preds == labels).float().sum()\n",
    "        train_count += len(images)\n",
    "        # print(f\"train accuracy: {train_correct} / {train_count}\")\n",
    "\n",
    "        # Backpropagation\n",
    "        optimizer.zero_grad()\n",
    "        train_loss.backward()\n",
    "        optimizer.step()\n",
    "\n",
    "        avg_train_loss = train_loss\n",
    "        # avg_train_loss = train_loss / train_count\n",
    "        avg_train_acc = 100 * train_correct / train_count \n",
    "#             Train_loss_history.append([train_loss])\n",
    "#             Train_accuracy_history.append([avg_train_acc])\n",
    "#             print(f\"loss: {avg_train_loss}\")\n",
    "#             print(f\"accuracy: {avg_train_acc}\")\n",
    "#             print(f\"correct: {correct}%\")\n",
    "    \n",
    "    gpumodel.eval()\n",
    "    with torch.no_grad():\n",
    "        for images,labels,fnames in tqdm(datavalid_loader):\n",
    "            images, labels = images.cuda(), labels.cuda()\n",
    "            output = gpumodel(images)\n",
    "            preds = output.max(1).indices\n",
    "            val_loss = loss_fn(output, labels)\n",
    "            # print(preds)\n",
    "            # print(labels)\n",
    "            val_correct += (preds == labels).float().sum()\n",
    "            val_count += len(images)\n",
    "\n",
    "            # print(f\"val accuracy: {val_correct} / {val_count}\")\n",
    "\n",
    "        avg_val_loss = val_loss \n",
    "        # avg_val_loss = val_loss / val_count\n",
    "        avg_val_acc = 100 * val_correct / val_count \n",
    "\n",
    "    schedular.step(avg_val_loss)\n",
    "    \n",
    "    if avg_val_loss <= min_val_loss:\n",
    "        print('Validation loss decreased from ({:.6f} --> {:.6f}).\\nSaving model ...'.format(min_val_loss, avg_val_loss))\n",
    "        torch.save(gpumodel.state_dict(), model_name)\n",
    "        min_val_loss = avg_train_loss\n",
    "\n",
    "    print(f\"train loss: {avg_train_loss}\")\n",
    "    print(f\"train accuracy: {avg_train_acc}%\")\n",
    "    print(f\"val loss: {avg_val_loss}\")\n",
    "    print(f\"val accuracy: {avg_val_acc}%\")\n",
    "    \n",
    "    return train_loss, avg_train_acc, min_val_loss, avg_val_loss, avg_val_acc\n",
    "    \n",
    "def test_loop(dataloader, gpumodel, loss_fn, optimizer, model_name):\n",
    "    size = len(dataloader.dataset)\n",
    "    num_batches = len(dataloader)\n",
    "    test_acc = 0\n",
    "    y_true_total = []\n",
    "    y_pred_total = []\n",
    "    test_correct = 0.0\n",
    "    test_count = 0.0\n",
    "    \n",
    "\n",
    "    with torch.no_grad():\n",
    "        for images,labels,fnames in tqdm(dataloader):\n",
    "            images, labels = images.cuda(), labels.cuda()\n",
    "            output = gpumodel(images)\n",
    "            y_true = labels\n",
    "            y_pred = output.max(1).indices\n",
    "            \n",
    "            y_true_total.extend(y_true.tolist())\n",
    "            y_pred_total.extend(y_pred.tolist())\n",
    "\n",
    "            test_correct += (y_pred == labels).float().sum()\n",
    "            test_count += len(images)\n",
    "            \n",
    "            \n",
    "    avg_test_acc = 100 * test_correct / test_count      \n",
    "            \n",
    "    print(f\" Test Accuracy: {avg_test_acc}\")\n",
    "#     print(y_true_total)\n",
    "#     print(y_pred_total)\n",
    "    test_matrix = confusion_matrix(y_true_total, y_pred_total)\n",
    "    print(test_matrix)"
   ]
  },
  {
   "cell_type": "code",
   "execution_count": 16,
   "id": "368a80a7",
   "metadata": {},
   "outputs": [],
   "source": [
    "def train_val_plot():\n",
    "    fig, axs = plt.subplots(2, 2)\n",
    "    axs[0, 0].plot(Train_loss_history)\n",
    "    axs[0, 0].set_title('Training loss (error)')\n",
    "    axs[0, 0].set(xlabel='# of Epochs', ylabel='Training loss')\n",
    "    axs[0, 1].plot(Train_accuracy_history, 'tab:orange')\n",
    "    axs[0, 1].set_title('Training Accuracy')\n",
    "    axs[0, 1].set(xlabel='# of Epochs', ylabel='Training Accuracy')\n",
    "    axs[1, 0].plot(Val_loss_history, 'tab:green')\n",
    "    axs[1, 0].set_title('Validation loss (error)')\n",
    "    axs[1, 0].set(xlabel='# of Epochs', ylabel='Validation loss')\n",
    "    axs[1, 1].plot(Val_accuracy_history, 'tab:red')\n",
    "    axs[1, 1].set_title('Validation Accuracy')\n",
    "    axs[1, 1].set(xlabel='# of Epochs', ylabel='Validation Accuracy')\n",
    "\n",
    "def train_val_plot_save(learning_rate, batch_size, epoch_number, run_type_temp):\n",
    "    fig, axs = plt.subplots(2, 2)\n",
    "    axs[0, 0].plot(Train_loss_history)\n",
    "    axs[0, 0].set_title('Training loss (error)')\n",
    "    axs[0, 0].set(xlabel='# of Epochs', ylabel='Training loss')\n",
    "    axs[0, 1].plot(Train_accuracy_history, 'tab:orange')\n",
    "    axs[0, 1].set_title('Training Accuracy')\n",
    "    axs[0, 1].set(xlabel='# of Epochs', ylabel='Training Accuracy')\n",
    "    axs[1, 0].plot(Val_loss_history, 'tab:green')\n",
    "    axs[1, 0].set_title('Validation loss (error)')\n",
    "    axs[1, 0].set(xlabel='# of Epochs', ylabel='Validation loss')\n",
    "    axs[1, 1].plot(Val_accuracy_history, 'tab:red')\n",
    "    axs[1, 1].set_title('Validation Accuracy')\n",
    "    axs[1, 1].set(xlabel='# of Epochs', ylabel='Validation Accuracy')\n",
    "    location = f\"D:\\Plot_Folder\\{run_type_temp}_{learning_rate}_{batch_size}_{epoch_number}_plot.png\"\n",
    "    plt.savefig(location)"
   ]
  },
  {
   "cell_type": "markdown",
   "id": "76f35326",
   "metadata": {
    "id": "Glr-lDSXcGmW"
   },
   "source": [
    "<font size=\"5\">Functionality Test</font>\n",
    "\n"
   ]
  },
  {
   "cell_type": "markdown",
   "id": "f2f79e5b",
   "metadata": {
    "id": "Glr-lDSXcGmW"
   },
   "source": [
    "Use this for testing training/validation funcitonality using the small test dataset"
   ]
  },
  {
   "cell_type": "code",
   "execution_count": 33,
   "id": "48071184",
   "metadata": {},
   "outputs": [
    {
     "name": "stdout",
     "output_type": "stream",
     "text": [
      "model is ready!\n",
      "Epoch 1\n",
      "-------------------------------\n"
     ]
    },
    {
     "name": "stderr",
     "output_type": "stream",
     "text": [
      "100%|██████████| 38/38 [00:11<00:00,  3.18it/s]\n",
      "100%|██████████| 75/75 [00:09<00:00,  7.60it/s]\n"
     ]
    },
    {
     "name": "stdout",
     "output_type": "stream",
     "text": [
      "Validation loss decreased from (10.000000 --> 1.861669).\n",
      "Saving model ...\n",
      "train loss: 0.7294924855232239\n",
      "train accuracy: 53.833335876464844%\n",
      "val loss: 1.8616688251495361\n",
      "val accuracy: 16.666667938232422%\n",
      "Epoch 2\n",
      "-------------------------------\n"
     ]
    },
    {
     "name": "stderr",
     "output_type": "stream",
     "text": [
      "100%|██████████| 38/38 [00:11<00:00,  3.17it/s]\n",
      "100%|██████████| 75/75 [00:10<00:00,  7.37it/s]\n"
     ]
    },
    {
     "name": "stdout",
     "output_type": "stream",
     "text": [
      "train loss: 1.540647029876709\n",
      "train accuracy: 61.5%\n",
      "val loss: 1.115991234779358\n",
      "val accuracy: 65.16667175292969%\n",
      "Epoch 3\n",
      "-------------------------------\n"
     ]
    },
    {
     "name": "stderr",
     "output_type": "stream",
     "text": [
      "100%|██████████| 38/38 [00:11<00:00,  3.21it/s]\n",
      "100%|██████████| 75/75 [00:09<00:00,  7.62it/s]\n"
     ]
    },
    {
     "name": "stdout",
     "output_type": "stream",
     "text": [
      "train loss: 1.0385409593582153\n",
      "train accuracy: 65.83333587646484%\n",
      "val loss: 0.9845142364501953\n",
      "val accuracy: 72.0%\n",
      "Epoch 4\n",
      "-------------------------------\n"
     ]
    },
    {
     "name": "stderr",
     "output_type": "stream",
     "text": [
      "100%|██████████| 38/38 [00:12<00:00,  3.16it/s]\n",
      "100%|██████████| 75/75 [00:09<00:00,  7.60it/s]\n"
     ]
    },
    {
     "name": "stdout",
     "output_type": "stream",
     "text": [
      "train loss: 0.6242988109588623\n",
      "train accuracy: 68.66667175292969%\n",
      "val loss: 1.0927990674972534\n",
      "val accuracy: 64.66667175292969%\n",
      "Epoch 5\n",
      "-------------------------------\n"
     ]
    },
    {
     "name": "stderr",
     "output_type": "stream",
     "text": [
      "100%|██████████| 38/38 [00:11<00:00,  3.19it/s]\n",
      "100%|██████████| 75/75 [00:09<00:00,  7.57it/s]\n"
     ]
    },
    {
     "name": "stdout",
     "output_type": "stream",
     "text": [
      "Validation loss decreased from (0.729492 --> 0.199699).\n",
      "Saving model ...\n",
      "train loss: 1.3358609676361084\n",
      "train accuracy: 69.0%\n",
      "val loss: 0.1996992826461792\n",
      "val accuracy: 74.5%\n"
     ]
    }
   ],
   "source": [
    "learning_rate_list = [0.01, 0.001, 0.0001, 0.00001]\n",
    "batch_size_list = [32, 64, 128, 256]\n",
    "epoch_list = [20, 40, 60]\n",
    "\n",
    "#initialization model with def call \n",
    "#model initialization\n",
    "# model = torch.hub.load('pytorch/vision:v0.10.0', 'mobilenet_v2', pretrained=False)\n",
    "model = torchvision.models.mobilenet_v2(pretrained=False)\n",
    "model.__init__\n",
    "gpumodel = model.cuda()\n",
    "print(\"model is ready!\")\n",
    "            \n",
    "optimizer = torch.optim.Adam(gpumodel.parameters(), lr=0.001)\n",
    "schedular = torch.optim.lr_scheduler.ReduceLROnPlateau(optimizer, factor=0.1, patience=3)\n",
    "\n",
    "run_type = \"Test\"\n",
    "learning_rate = 0.001\n",
    "batch_size = 16\n",
    "epochs = 5\n",
    "\n",
    "\n",
    "loss_fn = torch.nn.CrossEntropyLoss()\n",
    "optimizer = torch.optim.Adam(gpumodel.parameters(), lr=learning_rate, betas=(0.9, 0.999), eps=1e-08, weight_decay=0, amsgrad=False)\n",
    "model_name = \"func_project1_model\"\n",
    "\n",
    "Train_loss_history = []\n",
    "Val_loss_history = []\n",
    "Train_accuracy_history = []\n",
    "Val_accuracy_history = []\n",
    "min_loss = 10\n",
    "\n",
    "for t in range(epochs):\n",
    "    print(f\"Epoch {t+1}\\n-------------------------------\")\n",
    "    train_loss_temp, train_accuracy_temp, min_loss, val_loss_temp, val_accuracy_temp = train_and_val_loop(func_train_loader, func_valid_loader, gpumodel, loss_fn, optimizer, model_name, min_loss)\n",
    "    Train_loss_history.append(train_loss_temp.tolist())\n",
    "    Train_accuracy_history.append(train_accuracy_temp.tolist())\n",
    "    Val_loss_history.append(val_loss_temp.item()) \n",
    "    Val_accuracy_history.append(val_accuracy_temp.tolist())\n",
    "    \n",
    "train_val_plot_save(learning_rate, batch_size, epochs, run_type)"
   ]
  },
  {
   "cell_type": "markdown",
   "id": "76f35326",
   "metadata": {
    "id": "Glr-lDSXcGmW"
   },
   "source": [
    "<font size=\"5\">Hyperparameter optimization Training and Validaiton</font>\n",
    "\n"
   ]
  },
  {
   "cell_type": "markdown",
   "id": "f2f79e5b",
   "metadata": {
    "id": "Glr-lDSXcGmW"
   },
   "source": [
    "run loop testing for different hyperparameters:\n",
    "- learning rate (From Thesis: 0.01, 0.001, 0.0001, and 0.00001)\n",
    "- batch size (From Thesis: 32, 64, 128, and 256) **see dataloaders\n",
    "- number of epochs (From Thesis: 20, 40, and 60)\n",
    "- loss function (From Thesis: sparse categorical cross-entropy loss)\n",
    "- optimizer(From Thesis: Adam optimizer)"
   ]
  },
  {
   "cell_type": "markdown",
   "id": "acb20daa",
   "metadata": {
    "id": "Glr-lDSXcGmW"
   },
   "source": [
    "TO DO: \n",
    "- minimum validation loss is not saving properly\n",
    "- plot broken for training"
   ]
  },
  {
   "cell_type": "code",
   "execution_count": 17,
   "id": "48071184",
   "metadata": {},
   "outputs": [
    {
     "name": "stdout",
     "output_type": "stream",
     "text": [
      "model is ready!\n",
      "running learning rate test: 0.01\n",
      "Epoch 1\n",
      "-------------------------------\n"
     ]
    },
    {
     "name": "stderr",
     "output_type": "stream",
     "text": [
      "100%|██████████| 1519/1519 [16:56<00:00,  1.49it/s]\n",
      "100%|██████████| 60/60 [00:37<00:00,  1.59it/s]\n"
     ]
    },
    {
     "name": "stdout",
     "output_type": "stream",
     "text": [
      "Validation loss decreased from (10.000000 --> 0.178920).\n",
      "Saving model ...\n",
      "train loss: 0.5920310616493225\n",
      "train accuracy: 86.48788452148438%\n",
      "val loss: 0.1789199560880661\n",
      "val accuracy: 87.9473648071289%\n",
      "Epoch 2\n",
      "-------------------------------\n"
     ]
    },
    {
     "name": "stderr",
     "output_type": "stream",
     "text": [
      "100%|██████████| 1519/1519 [14:21<00:00,  1.76it/s]\n",
      "100%|██████████| 60/60 [00:29<00:00,  2.06it/s]\n"
     ]
    },
    {
     "name": "stdout",
     "output_type": "stream",
     "text": [
      "train loss: 0.2282983362674713\n",
      "train accuracy: 87.35438537597656%\n",
      "val loss: 1.3293075561523438\n",
      "val accuracy: 87.9473648071289%\n",
      "Epoch 3\n",
      "-------------------------------\n"
     ]
    },
    {
     "name": "stderr",
     "output_type": "stream",
     "text": [
      "100%|██████████| 1519/1519 [14:17<00:00,  1.77it/s]\n",
      "100%|██████████| 60/60 [00:28<00:00,  2.11it/s]\n"
     ]
    },
    {
     "name": "stdout",
     "output_type": "stream",
     "text": [
      "Validation loss decreased from (0.592031 --> 0.441697).\n",
      "Saving model ...\n",
      "train loss: 0.8516007661819458\n",
      "train accuracy: 87.53550720214844%\n",
      "val loss: 0.4416971206665039\n",
      "val accuracy: 88.57894134521484%\n",
      "Epoch 4\n",
      "-------------------------------\n"
     ]
    },
    {
     "name": "stderr",
     "output_type": "stream",
     "text": [
      "100%|██████████| 1519/1519 [14:02<00:00,  1.80it/s]\n",
      "100%|██████████| 60/60 [00:29<00:00,  2.04it/s]\n"
     ]
    },
    {
     "name": "stdout",
     "output_type": "stream",
     "text": [
      "Validation loss decreased from (0.851601 --> 0.671611).\n",
      "Saving model ...\n",
      "train loss: 0.0869334489107132\n",
      "train accuracy: 87.72074890136719%\n",
      "val loss: 0.671611487865448\n",
      "val accuracy: 88.63157653808594%\n",
      "Epoch 5\n",
      "-------------------------------\n"
     ]
    },
    {
     "name": "stderr",
     "output_type": "stream",
     "text": [
      "100%|██████████| 1519/1519 [13:56<00:00,  1.82it/s]\n",
      "100%|██████████| 60/60 [00:27<00:00,  2.16it/s]\n"
     ]
    },
    {
     "name": "stdout",
     "output_type": "stream",
     "text": [
      "train loss: 0.20424869656562805\n",
      "train accuracy: 87.9306869506836%\n",
      "val loss: 0.6220020651817322\n",
      "val accuracy: 88.47367858886719%\n"
     ]
    },
    {
     "data": {
      "image/png": "[encoded data removed]",
      "text/plain": [
       "<Figure size 432x288 with 4 Axes>"
      ]
     },
     "metadata": {
      "needs_background": "light"
     },
     "output_type": "display_data"
    }
   ],
   "source": [
    "# learning_rate_list = [0.01, 0.001, 0.0001, 0.00001]\n",
    "learning_rate_list = [0.01]\n",
    "batch_size_list = [32, 64, 128, 256]\n",
    "epoch_list = [20, 40, 60]\n",
    "\n",
    "for i in learning_rate_list:\n",
    "    #initialization model with def call \n",
    "    #model initialization\n",
    "    # model = torch.hub.load('pytorch/vision:v0.10.0', 'mobilenet_v2', pretrained=False)\n",
    "    model = torchvision.models.mobilenet_v2(pretrained=False)\n",
    "    model.__init__\n",
    "    gpumodel = model.cuda()\n",
    "    print(\"model is ready!\")\n",
    "                \n",
    "    schedular = torch.optim.lr_scheduler.ReduceLROnPlateau(optimizer, factor=0.1, patience=3)\n",
    "\n",
    "    #set hyperparameters\n",
    "    run_type = \"Test\"\n",
    "    learning_rate = i\n",
    "    batch_size = 16\n",
    "    epochs = 5\n",
    "\n",
    "\n",
    "    loss_fn = torch.nn.CrossEntropyLoss()\n",
    "    optimizer = torch.optim.Adam(gpumodel.parameters(), lr=learning_rate, betas=(0.9, 0.999), eps=1e-08, weight_decay=0, amsgrad=False)\n",
    "    model_name = f\"hyperparam_opt_lr{learning_rate}_bs{batch_size}_ep{epochs}_project1_model\"\n",
    "\n",
    "    Train_loss_history = []\n",
    "    Val_loss_history = []\n",
    "    Train_accuracy_history = []\n",
    "    Val_accuracy_history = []\n",
    "    min_loss = 10\n",
    "\n",
    "    print(f\"running learning rate test: {i}\")\n",
    "\n",
    "    for t in range(epochs):\n",
    "        print(f\"Epoch {t+1}\\n-------------------------------\")\n",
    "        train_loss_temp, train_accuracy_temp, min_loss, val_loss_temp, val_accuracy_temp = train_and_val_loop(part_train_loader, part_valid_loader, gpumodel, loss_fn, optimizer, model_name, min_loss)\n",
    "        Train_loss_history.append(train_loss_temp.tolist())\n",
    "        Train_accuracy_history.append(train_accuracy_temp.tolist())\n",
    "        Val_loss_history.append(val_loss_temp.item()) \n",
    "        Val_accuracy_history.append(val_accuracy_temp.tolist())\n",
    "        \n",
    "    train_val_plot_save(learning_rate, batch_size, epochs, run_type)\n"
   ]
  },
  {
   "cell_type": "code",
   "execution_count": 163,
   "id": "f8a06a65",
   "metadata": {},
   "outputs": [],
   "source": [
    "# plotgraph(1, \"Train\", Train_loss_history, Train_accuracy_history)\n",
    "# plotgraph(2, \"Validation\", Val_loss_history, Val_accuracy_history)\n",
    "# plt.show()\n",
    "\n",
    "\n",
    "def plotgraph():\n",
    "    %matplotlib qt\n",
    "    fig, axs = plt.subplots(2, 2)\n",
    "    axs[0, 0].plot(Train_loss_history)\n",
    "    axs[0, 0].set_title('Training loss (error)')\n",
    "    axs[0, 0].set(xlabel='# of Epochs', ylabel='Training loss')\n",
    "    axs[0, 1].plot(Train_accuracy_history, 'tab:orange')\n",
    "    axs[0, 1].set_title('Training Accuracy')\n",
    "    axs[0, 1].set(xlabel='# of Epochs', ylabel='Training Accuracy')\n",
    "    axs[1, 0].plot(Val_loss_history, 'tab:green')\n",
    "    axs[1, 0].set_title('Validation loss (error)')\n",
    "    axs[1, 0].set(xlabel='# of Epochs', ylabel='Validation loss')\n",
    "    axs[1, 1].plot(Val_accuracy_history, 'tab:red')\n",
    "    axs[1, 1].set_title('Validation Accuracy')\n",
    "    axs[1, 1].set(xlabel='# of Epochs', ylabel='Validation Accuracy')\n",
    "\n",
    "\n",
    "\n",
    "    # def plotgraph(fig_number, type, type_lost_list, type_acc_list):\n",
    "    # %matplotlib qt\n",
    "    # plt.figure(fig_number)\n",
    "    # plt.subplot(1, 2, 1)\n",
    "    # plt.plot(type_lost_list)\n",
    "    # plt.ylabel(f\"{type} loss (error)\")\n",
    "    # plt.xlabel('# of epochs')\n",
    "    # plt.title(f\"{type}\")\n",
    "    # plt.subplot(1, 2, 2)\n",
    "    # plt.plot(type_acc_list)\n",
    "    # plt.ylabel(f\"{type} accuracy\")\n",
    "    # plt.xlabel('# of epochs')\n",
    "    # plt.title(f\"{type}\")\n",
    "    # plt.show(block=False)\n",
    "\n",
    "# plt.subplot(1, 2, 1)\n",
    "# plt.plot(Val_loss_history)\n",
    "# plt.ylabel('validation loss (error)')\n",
    "# plt.xlabel('# of epochs')\n",
    "# plt.title('validation')\n",
    "# plt.subplot(1, 2, 2)\n",
    "# plt.plot(Val_accuracy_history)\n",
    "# plt.ylabel('validation accuracy')\n",
    "# plt.xlabel('# of epochs')\n",
    "# plt.title('validation')\n",
    "# plt.figure(0)\n",
    "# plt.figure(figsize=(2,2))\n",
    "# plt.show()\n",
    "\n"
   ]
  },
  {
   "cell_type": "code",
   "execution_count": 165,
   "id": "c828ce6b",
   "metadata": {},
   "outputs": [],
   "source": [
    "# plotgraph(1, \"Train\", Train_loss_history, Train_accuracy_history)\n",
    "# plotgraph(2, \"Validation\", Val_loss_history, Val_accuracy_history)\n",
    "# plt.show()\n",
    "plotgraph()"
   ]
  },
  {
   "cell_type": "markdown",
   "id": "76f35326",
   "metadata": {
    "id": "Glr-lDSXcGmW"
   },
   "source": [
    "<font size=\"5\">Final Run Training and Validaiton</font>\n",
    "\n"
   ]
  },
  {
   "cell_type": "markdown",
   "id": "acb20daa",
   "metadata": {
    "id": "Glr-lDSXcGmW"
   },
   "source": [
    "TO DO: \n",
    "- Set hyperparameters to values based on findings above"
   ]
  },
  {
   "cell_type": "code",
   "execution_count": null,
   "id": "48071184",
   "metadata": {},
   "outputs": [],
   "source": [
    "learning_rate_list = [0.01, 0.001, 0.0001, 0.00001]\n",
    "batch_size_list = [32, 64, 128, 256]\n",
    "epoch_list = [20, 40, 60]\n",
    "\n",
    "\n",
    "epochs = 5\n",
    "learning_rate = 0.001\n",
    "\n",
    "loss_fn = torch.nn.CrossEntropyLoss()\n",
    "optimizer = torch.optim.Adam(gpumodel.parameters(), lr=learning_rate, betas=(0.9, 0.999), eps=1e-08, weight_decay=0, amsgrad=False)\n",
    "model_name = \"project1_model\"\n",
    "\n",
    "Train_loss_history = []\n",
    "Val_loss_history = []\n",
    "Train_accuracy_history = []\n",
    "Val_accuracy_history = []\n",
    "min_loss = 10\n",
    "\n",
    "for t in range(epochs):\n",
    "    print(f\"Epoch {t+1}\\n-------------------------------\")\n",
    "    train_loss_temp, train_accuracy_temp, min_loss, val_loss_temp, val_accuracy_temp = train_and_val_loop(train_loader, valid_loader, gpumodel, loss_fn, optimizer, model_name, min_loss)\n",
    "    Train_loss_history.append(train_loss_temp.tolist())\n",
    "    Train_accuracy_history.append(train_accuracy_temp.tolist())\n",
    "    Val_loss_history.append(val_loss_temp)\n",
    "    Val_accuracy_history.append(val_accuracy_temp.tolist())\n",
    "    \n"
   ]
  },
  {
   "cell_type": "code",
   "execution_count": 21,
   "id": "9d7b9685",
   "metadata": {},
   "outputs": [
    {
     "name": "stdout",
     "output_type": "stream",
     "text": [
      "Done!\n"
     ]
    },
    {
     "data": {
      "image/png": "[encoded data removed]",
      "text/plain": [
       "<Figure size 432x288 with 2 Axes>"
      ]
     },
     "metadata": {
      "needs_background": "light"
     },
     "output_type": "display_data"
    }
   ],
   "source": [
    "plt.subplot(1, 2, 1)\n",
    "plt.plot(Train_loss_history)\n",
    "plt.ylabel('training loss (error)')\n",
    "plt.xlabel('# of epochs')\n",
    "plt.title('training')\n",
    "\n",
    "plt.subplot(1, 2, 2)\n",
    "plt.plot(Train_accuracy_history)\n",
    "plt.ylabel('training accuracy')\n",
    "plt.xlabel('# of epochs')\n",
    "plt.title('training')\n",
    "plt.figure(1)\n",
    "plt.tight_layout()\n",
    "    \n",
    "print(\"Done!\")"
   ]
  },
  {
   "cell_type": "markdown",
   "id": "33a6948d",
   "metadata": {
    "id": "Glr-lDSXcGmW"
   },
   "source": [
    "<font size=\"5\">Plot Results</font>\n"
   ]
  },
  {
   "cell_type": "code",
   "execution_count": 39,
   "id": "f8a06a65",
   "metadata": {},
   "outputs": [
    {
     "ename": "RuntimeError",
     "evalue": "Can't call numpy() on Tensor that requires grad. Use tensor.detach().numpy() instead.",
     "output_type": "error",
     "traceback": [
      "\u001b[0;31m---------------------------------------------------------------------------\u001b[0m",
      "\u001b[0;31mRuntimeError\u001b[0m                              Traceback (most recent call last)",
      "\u001b[0;32m<ipython-input-39-639deba69b64>\u001b[0m in \u001b[0;36m<module>\u001b[0;34m\u001b[0m\n\u001b[1;32m     14\u001b[0m \u001b[0;34m\u001b[0m\u001b[0m\n\u001b[1;32m     15\u001b[0m \u001b[0mplt\u001b[0m\u001b[0;34m.\u001b[0m\u001b[0msubplot\u001b[0m\u001b[0;34m(\u001b[0m\u001b[0;36m1\u001b[0m\u001b[0;34m,\u001b[0m \u001b[0;36m2\u001b[0m\u001b[0;34m,\u001b[0m \u001b[0;36m1\u001b[0m\u001b[0;34m)\u001b[0m\u001b[0;34m\u001b[0m\u001b[0;34m\u001b[0m\u001b[0m\n\u001b[0;32m---> 16\u001b[0;31m \u001b[0mplt\u001b[0m\u001b[0;34m.\u001b[0m\u001b[0mplot\u001b[0m\u001b[0;34m(\u001b[0m\u001b[0mTrain_loss_history\u001b[0m\u001b[0;34m)\u001b[0m\u001b[0;34m\u001b[0m\u001b[0;34m\u001b[0m\u001b[0m\n\u001b[0m\u001b[1;32m     17\u001b[0m \u001b[0mplt\u001b[0m\u001b[0;34m.\u001b[0m\u001b[0mylabel\u001b[0m\u001b[0;34m(\u001b[0m\u001b[0;34m'training loss (error)'\u001b[0m\u001b[0;34m)\u001b[0m\u001b[0;34m\u001b[0m\u001b[0;34m\u001b[0m\u001b[0m\n\u001b[1;32m     18\u001b[0m \u001b[0mplt\u001b[0m\u001b[0;34m.\u001b[0m\u001b[0mxlabel\u001b[0m\u001b[0;34m(\u001b[0m\u001b[0;34m'# of epochs'\u001b[0m\u001b[0;34m)\u001b[0m\u001b[0;34m\u001b[0m\u001b[0;34m\u001b[0m\u001b[0m\n",
      "\u001b[0;32m/anaconda/envs/azureml_py38_pytorch/lib/python3.8/site-packages/matplotlib/pyplot.py\u001b[0m in \u001b[0;36mplot\u001b[0;34m(scalex, scaley, data, *args, **kwargs)\u001b[0m\n\u001b[1;32m   2755\u001b[0m \u001b[0;34m@\u001b[0m\u001b[0m_copy_docstring_and_deprecators\u001b[0m\u001b[0;34m(\u001b[0m\u001b[0mAxes\u001b[0m\u001b[0;34m.\u001b[0m\u001b[0mplot\u001b[0m\u001b[0;34m)\u001b[0m\u001b[0;34m\u001b[0m\u001b[0;34m\u001b[0m\u001b[0m\n\u001b[1;32m   2756\u001b[0m \u001b[0;32mdef\u001b[0m \u001b[0mplot\u001b[0m\u001b[0;34m(\u001b[0m\u001b[0;34m*\u001b[0m\u001b[0margs\u001b[0m\u001b[0;34m,\u001b[0m \u001b[0mscalex\u001b[0m\u001b[0;34m=\u001b[0m\u001b[0;32mTrue\u001b[0m\u001b[0;34m,\u001b[0m \u001b[0mscaley\u001b[0m\u001b[0;34m=\u001b[0m\u001b[0;32mTrue\u001b[0m\u001b[0;34m,\u001b[0m \u001b[0mdata\u001b[0m\u001b[0;34m=\u001b[0m\u001b[0;32mNone\u001b[0m\u001b[0;34m,\u001b[0m \u001b[0;34m**\u001b[0m\u001b[0mkwargs\u001b[0m\u001b[0;34m)\u001b[0m\u001b[0;34m:\u001b[0m\u001b[0;34m\u001b[0m\u001b[0;34m\u001b[0m\u001b[0m\n\u001b[0;32m-> 2757\u001b[0;31m     return gca().plot(\n\u001b[0m\u001b[1;32m   2758\u001b[0m         \u001b[0;34m*\u001b[0m\u001b[0margs\u001b[0m\u001b[0;34m,\u001b[0m \u001b[0mscalex\u001b[0m\u001b[0;34m=\u001b[0m\u001b[0mscalex\u001b[0m\u001b[0;34m,\u001b[0m \u001b[0mscaley\u001b[0m\u001b[0;34m=\u001b[0m\u001b[0mscaley\u001b[0m\u001b[0;34m,\u001b[0m\u001b[0;34m\u001b[0m\u001b[0;34m\u001b[0m\u001b[0m\n\u001b[1;32m   2759\u001b[0m         **({\"data\": data} if data is not None else {}), **kwargs)\n",
      "\u001b[0;32m/anaconda/envs/azureml_py38_pytorch/lib/python3.8/site-packages/matplotlib/axes/_axes.py\u001b[0m in \u001b[0;36mplot\u001b[0;34m(self, scalex, scaley, data, *args, **kwargs)\u001b[0m\n\u001b[1;32m   1630\u001b[0m         \"\"\"\n\u001b[1;32m   1631\u001b[0m         \u001b[0mkwargs\u001b[0m \u001b[0;34m=\u001b[0m \u001b[0mcbook\u001b[0m\u001b[0;34m.\u001b[0m\u001b[0mnormalize_kwargs\u001b[0m\u001b[0;34m(\u001b[0m\u001b[0mkwargs\u001b[0m\u001b[0;34m,\u001b[0m \u001b[0mmlines\u001b[0m\u001b[0;34m.\u001b[0m\u001b[0mLine2D\u001b[0m\u001b[0;34m)\u001b[0m\u001b[0;34m\u001b[0m\u001b[0;34m\u001b[0m\u001b[0m\n\u001b[0;32m-> 1632\u001b[0;31m         \u001b[0mlines\u001b[0m \u001b[0;34m=\u001b[0m \u001b[0;34m[\u001b[0m\u001b[0;34m*\u001b[0m\u001b[0mself\u001b[0m\u001b[0;34m.\u001b[0m\u001b[0m_get_lines\u001b[0m\u001b[0;34m(\u001b[0m\u001b[0;34m*\u001b[0m\u001b[0margs\u001b[0m\u001b[0;34m,\u001b[0m \u001b[0mdata\u001b[0m\u001b[0;34m=\u001b[0m\u001b[0mdata\u001b[0m\u001b[0;34m,\u001b[0m \u001b[0;34m**\u001b[0m\u001b[0mkwargs\u001b[0m\u001b[0;34m)\u001b[0m\u001b[0;34m]\u001b[0m\u001b[0;34m\u001b[0m\u001b[0;34m\u001b[0m\u001b[0m\n\u001b[0m\u001b[1;32m   1633\u001b[0m         \u001b[0;32mfor\u001b[0m \u001b[0mline\u001b[0m \u001b[0;32min\u001b[0m \u001b[0mlines\u001b[0m\u001b[0;34m:\u001b[0m\u001b[0;34m\u001b[0m\u001b[0;34m\u001b[0m\u001b[0m\n\u001b[1;32m   1634\u001b[0m             \u001b[0mself\u001b[0m\u001b[0;34m.\u001b[0m\u001b[0madd_line\u001b[0m\u001b[0;34m(\u001b[0m\u001b[0mline\u001b[0m\u001b[0;34m)\u001b[0m\u001b[0;34m\u001b[0m\u001b[0;34m\u001b[0m\u001b[0m\n",
      "\u001b[0;32m/anaconda/envs/azureml_py38_pytorch/lib/python3.8/site-packages/matplotlib/axes/_base.py\u001b[0m in \u001b[0;36m__call__\u001b[0;34m(self, data, *args, **kwargs)\u001b[0m\n\u001b[1;32m    310\u001b[0m                 \u001b[0mthis\u001b[0m \u001b[0;34m+=\u001b[0m \u001b[0margs\u001b[0m\u001b[0;34m[\u001b[0m\u001b[0;36m0\u001b[0m\u001b[0;34m]\u001b[0m\u001b[0;34m,\u001b[0m\u001b[0;34m\u001b[0m\u001b[0;34m\u001b[0m\u001b[0m\n\u001b[1;32m    311\u001b[0m                 \u001b[0margs\u001b[0m \u001b[0;34m=\u001b[0m \u001b[0margs\u001b[0m\u001b[0;34m[\u001b[0m\u001b[0;36m1\u001b[0m\u001b[0;34m:\u001b[0m\u001b[0;34m]\u001b[0m\u001b[0;34m\u001b[0m\u001b[0;34m\u001b[0m\u001b[0m\n\u001b[0;32m--> 312\u001b[0;31m             \u001b[0;32myield\u001b[0m \u001b[0;32mfrom\u001b[0m \u001b[0mself\u001b[0m\u001b[0;34m.\u001b[0m\u001b[0m_plot_args\u001b[0m\u001b[0;34m(\u001b[0m\u001b[0mthis\u001b[0m\u001b[0;34m,\u001b[0m \u001b[0mkwargs\u001b[0m\u001b[0;34m)\u001b[0m\u001b[0;34m\u001b[0m\u001b[0;34m\u001b[0m\u001b[0m\n\u001b[0m\u001b[1;32m    313\u001b[0m \u001b[0;34m\u001b[0m\u001b[0m\n\u001b[1;32m    314\u001b[0m     \u001b[0;32mdef\u001b[0m \u001b[0mget_next_color\u001b[0m\u001b[0;34m(\u001b[0m\u001b[0mself\u001b[0m\u001b[0;34m)\u001b[0m\u001b[0;34m:\u001b[0m\u001b[0;34m\u001b[0m\u001b[0;34m\u001b[0m\u001b[0m\n",
      "\u001b[0;32m/anaconda/envs/azureml_py38_pytorch/lib/python3.8/site-packages/matplotlib/axes/_base.py\u001b[0m in \u001b[0;36m_plot_args\u001b[0;34m(self, tup, kwargs, return_kwargs)\u001b[0m\n\u001b[1;32m    488\u001b[0m             \u001b[0my\u001b[0m \u001b[0;34m=\u001b[0m \u001b[0m_check_1d\u001b[0m\u001b[0;34m(\u001b[0m\u001b[0mxy\u001b[0m\u001b[0;34m[\u001b[0m\u001b[0;36m1\u001b[0m\u001b[0;34m]\u001b[0m\u001b[0;34m)\u001b[0m\u001b[0;34m\u001b[0m\u001b[0;34m\u001b[0m\u001b[0m\n\u001b[1;32m    489\u001b[0m         \u001b[0;32melse\u001b[0m\u001b[0;34m:\u001b[0m\u001b[0;34m\u001b[0m\u001b[0;34m\u001b[0m\u001b[0m\n\u001b[0;32m--> 490\u001b[0;31m             \u001b[0mx\u001b[0m\u001b[0;34m,\u001b[0m \u001b[0my\u001b[0m \u001b[0;34m=\u001b[0m \u001b[0mindex_of\u001b[0m\u001b[0;34m(\u001b[0m\u001b[0mxy\u001b[0m\u001b[0;34m[\u001b[0m\u001b[0;34m-\u001b[0m\u001b[0;36m1\u001b[0m\u001b[0;34m]\u001b[0m\u001b[0;34m)\u001b[0m\u001b[0;34m\u001b[0m\u001b[0;34m\u001b[0m\u001b[0m\n\u001b[0m\u001b[1;32m    491\u001b[0m \u001b[0;34m\u001b[0m\u001b[0m\n\u001b[1;32m    492\u001b[0m         \u001b[0;32mif\u001b[0m \u001b[0mself\u001b[0m\u001b[0;34m.\u001b[0m\u001b[0maxes\u001b[0m\u001b[0;34m.\u001b[0m\u001b[0mxaxis\u001b[0m \u001b[0;32mis\u001b[0m \u001b[0;32mnot\u001b[0m \u001b[0;32mNone\u001b[0m\u001b[0;34m:\u001b[0m\u001b[0;34m\u001b[0m\u001b[0;34m\u001b[0m\u001b[0m\n",
      "\u001b[0;32m/anaconda/envs/azureml_py38_pytorch/lib/python3.8/site-packages/matplotlib/cbook/__init__.py\u001b[0m in \u001b[0;36mindex_of\u001b[0;34m(y)\u001b[0m\n\u001b[1;32m   1650\u001b[0m         \u001b[0;32mpass\u001b[0m\u001b[0;34m\u001b[0m\u001b[0;34m\u001b[0m\u001b[0m\n\u001b[1;32m   1651\u001b[0m     \u001b[0;32mtry\u001b[0m\u001b[0;34m:\u001b[0m\u001b[0;34m\u001b[0m\u001b[0;34m\u001b[0m\u001b[0m\n\u001b[0;32m-> 1652\u001b[0;31m         \u001b[0my\u001b[0m \u001b[0;34m=\u001b[0m \u001b[0m_check_1d\u001b[0m\u001b[0;34m(\u001b[0m\u001b[0my\u001b[0m\u001b[0;34m)\u001b[0m\u001b[0;34m\u001b[0m\u001b[0;34m\u001b[0m\u001b[0m\n\u001b[0m\u001b[1;32m   1653\u001b[0m     \u001b[0;32mexcept\u001b[0m \u001b[0;34m(\u001b[0m\u001b[0mnp\u001b[0m\u001b[0;34m.\u001b[0m\u001b[0mVisibleDeprecationWarning\u001b[0m\u001b[0;34m,\u001b[0m \u001b[0mValueError\u001b[0m\u001b[0;34m)\u001b[0m\u001b[0;34m:\u001b[0m\u001b[0;34m\u001b[0m\u001b[0;34m\u001b[0m\u001b[0m\n\u001b[1;32m   1654\u001b[0m         \u001b[0;31m# NumPy 1.19 will warn on ragged input, and we can't actually use it.\u001b[0m\u001b[0;34m\u001b[0m\u001b[0;34m\u001b[0m\u001b[0;34m\u001b[0m\u001b[0m\n",
      "\u001b[0;32m/anaconda/envs/azureml_py38_pytorch/lib/python3.8/site-packages/matplotlib/cbook/__init__.py\u001b[0m in \u001b[0;36m_check_1d\u001b[0;34m(x)\u001b[0m\n\u001b[1;32m   1302\u001b[0m     \u001b[0;34m\"\"\"Convert scalars to 1D arrays; pass-through arrays as is.\"\"\"\u001b[0m\u001b[0;34m\u001b[0m\u001b[0;34m\u001b[0m\u001b[0m\n\u001b[1;32m   1303\u001b[0m     \u001b[0;32mif\u001b[0m \u001b[0;32mnot\u001b[0m \u001b[0mhasattr\u001b[0m\u001b[0;34m(\u001b[0m\u001b[0mx\u001b[0m\u001b[0;34m,\u001b[0m \u001b[0;34m'shape'\u001b[0m\u001b[0;34m)\u001b[0m \u001b[0;32mor\u001b[0m \u001b[0mlen\u001b[0m\u001b[0;34m(\u001b[0m\u001b[0mx\u001b[0m\u001b[0;34m.\u001b[0m\u001b[0mshape\u001b[0m\u001b[0;34m)\u001b[0m \u001b[0;34m<\u001b[0m \u001b[0;36m1\u001b[0m\u001b[0;34m:\u001b[0m\u001b[0;34m\u001b[0m\u001b[0;34m\u001b[0m\u001b[0m\n\u001b[0;32m-> 1304\u001b[0;31m         \u001b[0;32mreturn\u001b[0m \u001b[0mnp\u001b[0m\u001b[0;34m.\u001b[0m\u001b[0matleast_1d\u001b[0m\u001b[0;34m(\u001b[0m\u001b[0mx\u001b[0m\u001b[0;34m)\u001b[0m\u001b[0;34m\u001b[0m\u001b[0;34m\u001b[0m\u001b[0m\n\u001b[0m\u001b[1;32m   1305\u001b[0m     \u001b[0;32melse\u001b[0m\u001b[0;34m:\u001b[0m\u001b[0;34m\u001b[0m\u001b[0;34m\u001b[0m\u001b[0m\n\u001b[1;32m   1306\u001b[0m         \u001b[0;32mtry\u001b[0m\u001b[0;34m:\u001b[0m\u001b[0;34m\u001b[0m\u001b[0;34m\u001b[0m\u001b[0m\n",
      "\u001b[0;32m<__array_function__ internals>\u001b[0m in \u001b[0;36matleast_1d\u001b[0;34m(*args, **kwargs)\u001b[0m\n",
      "\u001b[0;32m/anaconda/envs/azureml_py38_pytorch/lib/python3.8/site-packages/numpy/core/shape_base.py\u001b[0m in \u001b[0;36matleast_1d\u001b[0;34m(*arys)\u001b[0m\n\u001b[1;32m     63\u001b[0m     \u001b[0mres\u001b[0m \u001b[0;34m=\u001b[0m \u001b[0;34m[\u001b[0m\u001b[0;34m]\u001b[0m\u001b[0;34m\u001b[0m\u001b[0;34m\u001b[0m\u001b[0m\n\u001b[1;32m     64\u001b[0m     \u001b[0;32mfor\u001b[0m \u001b[0mary\u001b[0m \u001b[0;32min\u001b[0m \u001b[0marys\u001b[0m\u001b[0;34m:\u001b[0m\u001b[0;34m\u001b[0m\u001b[0;34m\u001b[0m\u001b[0m\n\u001b[0;32m---> 65\u001b[0;31m         \u001b[0mary\u001b[0m \u001b[0;34m=\u001b[0m \u001b[0masanyarray\u001b[0m\u001b[0;34m(\u001b[0m\u001b[0mary\u001b[0m\u001b[0;34m)\u001b[0m\u001b[0;34m\u001b[0m\u001b[0;34m\u001b[0m\u001b[0m\n\u001b[0m\u001b[1;32m     66\u001b[0m         \u001b[0;32mif\u001b[0m \u001b[0mary\u001b[0m\u001b[0;34m.\u001b[0m\u001b[0mndim\u001b[0m \u001b[0;34m==\u001b[0m \u001b[0;36m0\u001b[0m\u001b[0;34m:\u001b[0m\u001b[0;34m\u001b[0m\u001b[0;34m\u001b[0m\u001b[0m\n\u001b[1;32m     67\u001b[0m             \u001b[0mresult\u001b[0m \u001b[0;34m=\u001b[0m \u001b[0mary\u001b[0m\u001b[0;34m.\u001b[0m\u001b[0mreshape\u001b[0m\u001b[0;34m(\u001b[0m\u001b[0;36m1\u001b[0m\u001b[0;34m)\u001b[0m\u001b[0;34m\u001b[0m\u001b[0;34m\u001b[0m\u001b[0m\n",
      "\u001b[0;32m/anaconda/envs/azureml_py38_pytorch/lib/python3.8/site-packages/torch/_tensor.py\u001b[0m in \u001b[0;36m__array__\u001b[0;34m(self, dtype)\u001b[0m\n\u001b[1;32m    676\u001b[0m             \u001b[0;32mreturn\u001b[0m \u001b[0mhandle_torch_function\u001b[0m\u001b[0;34m(\u001b[0m\u001b[0mTensor\u001b[0m\u001b[0;34m.\u001b[0m\u001b[0m__array__\u001b[0m\u001b[0;34m,\u001b[0m \u001b[0;34m(\u001b[0m\u001b[0mself\u001b[0m\u001b[0;34m,\u001b[0m\u001b[0;34m)\u001b[0m\u001b[0;34m,\u001b[0m \u001b[0mself\u001b[0m\u001b[0;34m,\u001b[0m \u001b[0mdtype\u001b[0m\u001b[0;34m=\u001b[0m\u001b[0mdtype\u001b[0m\u001b[0;34m)\u001b[0m\u001b[0;34m\u001b[0m\u001b[0;34m\u001b[0m\u001b[0m\n\u001b[1;32m    677\u001b[0m         \u001b[0;32mif\u001b[0m \u001b[0mdtype\u001b[0m \u001b[0;32mis\u001b[0m \u001b[0;32mNone\u001b[0m\u001b[0;34m:\u001b[0m\u001b[0;34m\u001b[0m\u001b[0;34m\u001b[0m\u001b[0m\n\u001b[0;32m--> 678\u001b[0;31m             \u001b[0;32mreturn\u001b[0m \u001b[0mself\u001b[0m\u001b[0;34m.\u001b[0m\u001b[0mnumpy\u001b[0m\u001b[0;34m(\u001b[0m\u001b[0;34m)\u001b[0m\u001b[0;34m\u001b[0m\u001b[0;34m\u001b[0m\u001b[0m\n\u001b[0m\u001b[1;32m    679\u001b[0m         \u001b[0;32melse\u001b[0m\u001b[0;34m:\u001b[0m\u001b[0;34m\u001b[0m\u001b[0;34m\u001b[0m\u001b[0m\n\u001b[1;32m    680\u001b[0m             \u001b[0;32mreturn\u001b[0m \u001b[0mself\u001b[0m\u001b[0;34m.\u001b[0m\u001b[0mnumpy\u001b[0m\u001b[0;34m(\u001b[0m\u001b[0;34m)\u001b[0m\u001b[0;34m.\u001b[0m\u001b[0mastype\u001b[0m\u001b[0;34m(\u001b[0m\u001b[0mdtype\u001b[0m\u001b[0;34m,\u001b[0m \u001b[0mcopy\u001b[0m\u001b[0;34m=\u001b[0m\u001b[0;32mFalse\u001b[0m\u001b[0;34m)\u001b[0m\u001b[0;34m\u001b[0m\u001b[0;34m\u001b[0m\u001b[0m\n",
      "\u001b[0;31mRuntimeError\u001b[0m: Can't call numpy() on Tensor that requires grad. Use tensor.detach().numpy() instead."
     ]
    },
    {
     "data": {
      "image/png": "[encoded data removed]",
      "text/plain": [
       "<Figure size 432x288 with 2 Axes>"
      ]
     },
     "metadata": {
      "needs_background": "light"
     },
     "output_type": "display_data"
    },
    {
     "data": {
      "image/png": "[encoded data removed]",
      "text/plain": [
       "<Figure size 432x288 with 1 Axes>"
      ]
     },
     "metadata": {
      "needs_background": "light"
     },
     "output_type": "display_data"
    }
   ],
   "source": [
    "plt.subplot(1, 2, 1)\n",
    "plt.plot(Val_loss_history)\n",
    "plt.ylabel('validation loss (error)')\n",
    "plt.xlabel('# of epochs')\n",
    "plt.title('validation')\n",
    "\n",
    "plt.subplot(1, 2, 2)\n",
    "plt.plot(Val_accuracy_history)\n",
    "plt.ylabel('validation accuracy')\n",
    "plt.xlabel('# of epochs')\n",
    "plt.title('validation')\n",
    "plt.figure(0)\n",
    "plt.tight_layout()\n",
    "\n",
    "plt.subplot(1, 2, 1)\n",
    "plt.plot(Train_loss_history)\n",
    "plt.ylabel('training loss (error)')\n",
    "plt.xlabel('# of epochs')\n",
    "plt.title('training')\n",
    "plt.subplot(1, 2, 2)\n",
    "plt.plot(Train_accuracy_history)\n",
    "plt.ylabel('training accuracy')\n",
    "plt.xlabel('# of epochs')\n",
    "plt.title('training')\n",
    "plt.figure(1)\n",
    "plt.tight_layout()"
   ]
  },
  {
   "cell_type": "markdown",
   "id": "2703ad12",
   "metadata": {
    "id": "Glr-lDSXcGmW"
   },
   "source": [
    "<font size=\"5\">Run Testing/Confusion Matrix</font>\n",
    "\n"
   ]
  },
  {
   "cell_type": "markdown",
   "id": "e0b0c21f",
   "metadata": {
    "id": "Glr-lDSXcGmW"
   },
   "source": [
    "TO DO: \n",
    "- Add heat mapping to the following"
   ]
  },
  {
   "cell_type": "code",
   "execution_count": 66,
   "id": "26f860ee",
   "metadata": {},
   "outputs": [
    {
     "name": "stderr",
     "output_type": "stream",
     "text": [
      "100%|██████████| 75/75 [00:45<00:00,  1.65it/s]"
     ]
    },
    {
     "name": "stdout",
     "output_type": "stream",
     "text": [
      " Test Accuracy: 84.33332824707031\n",
      "[[171   2   6  21]\n",
      " [ 13  77   8   2]\n",
      " [  1   3 191   5]\n",
      " [ 13   4  16  67]]\n"
     ]
    },
    {
     "name": "stderr",
     "output_type": "stream",
     "text": [
      "\n"
     ]
    }
   ],
   "source": [
    "test_loop(test_loader, model, loss_fn, optimizer, model_name)"
   ]
  },
  {
   "cell_type": "markdown",
   "id": "114ef3ec",
   "metadata": {
    "id": "Glr-lDSXcGmW"
   },
   "source": [
    "<font size=\"5\">Experimental Code</font>\n",
    "\n"
   ]
  },
  {
   "cell_type": "code",
   "execution_count": 46,
   "id": "edb6a245",
   "metadata": {},
   "outputs": [
    {
     "name": "stderr",
     "output_type": "stream",
     "text": [
      "  0%|          | 0/38 [00:01<?, ?it/s]\n"
     ]
    },
    {
     "ename": "RuntimeError",
     "evalue": "Expected floating point type for target with class probabilities, got Long",
     "output_type": "error",
     "traceback": [
      "\u001b[0;31m---------------------------------------------------------------------------\u001b[0m",
      "\u001b[0;31mRuntimeError\u001b[0m                              Traceback (most recent call last)",
      "\u001b[0;32m<ipython-input-46-9833e2435e63>\u001b[0m in \u001b[0;36m<module>\u001b[0;34m\u001b[0m\n\u001b[1;32m     21\u001b[0m         \u001b[0;31m#this gives us equal size predicted and actual labels\u001b[0m\u001b[0;34m\u001b[0m\u001b[0;34m\u001b[0m\u001b[0;34m\u001b[0m\u001b[0m\n\u001b[1;32m     22\u001b[0m         \u001b[0moutput\u001b[0m \u001b[0;34m=\u001b[0m \u001b[0mmodel\u001b[0m\u001b[0;34m(\u001b[0m\u001b[0mimages\u001b[0m\u001b[0;34m)\u001b[0m\u001b[0;34m\u001b[0m\u001b[0;34m\u001b[0m\u001b[0m\n\u001b[0;32m---> 23\u001b[0;31m         \u001b[0mloss\u001b[0m \u001b[0;34m=\u001b[0m \u001b[0mcriterion\u001b[0m\u001b[0;34m(\u001b[0m\u001b[0mpreds\u001b[0m\u001b[0;34m,\u001b[0m \u001b[0mlabels\u001b[0m\u001b[0;34m)\u001b[0m\u001b[0;34m\u001b[0m\u001b[0;34m\u001b[0m\u001b[0m\n\u001b[0m\u001b[1;32m     24\u001b[0m         \u001b[0mpreds\u001b[0m \u001b[0;34m=\u001b[0m \u001b[0moutput\u001b[0m\u001b[0;34m.\u001b[0m\u001b[0mmax\u001b[0m\u001b[0;34m(\u001b[0m\u001b[0;36m1\u001b[0m\u001b[0;34m)\u001b[0m\u001b[0;34m.\u001b[0m\u001b[0mindices\u001b[0m\u001b[0;34m\u001b[0m\u001b[0;34m\u001b[0m\u001b[0m\n\u001b[1;32m     25\u001b[0m         \u001b[0mprint\u001b[0m\u001b[0;34m(\u001b[0m\u001b[0mpreds\u001b[0m\u001b[0;34m)\u001b[0m\u001b[0;34m\u001b[0m\u001b[0;34m\u001b[0m\u001b[0m\n",
      "\u001b[0;32m/anaconda/envs/azureml_py38_PT_TF/lib/python3.8/site-packages/torch/nn/modules/module.py\u001b[0m in \u001b[0;36m_call_impl\u001b[0;34m(self, *input, **kwargs)\u001b[0m\n\u001b[1;32m   1100\u001b[0m         if not (self._backward_hooks or self._forward_hooks or self._forward_pre_hooks or _global_backward_hooks\n\u001b[1;32m   1101\u001b[0m                 or _global_forward_hooks or _global_forward_pre_hooks):\n\u001b[0;32m-> 1102\u001b[0;31m             \u001b[0;32mreturn\u001b[0m \u001b[0mforward_call\u001b[0m\u001b[0;34m(\u001b[0m\u001b[0;34m*\u001b[0m\u001b[0minput\u001b[0m\u001b[0;34m,\u001b[0m \u001b[0;34m**\u001b[0m\u001b[0mkwargs\u001b[0m\u001b[0;34m)\u001b[0m\u001b[0;34m\u001b[0m\u001b[0;34m\u001b[0m\u001b[0m\n\u001b[0m\u001b[1;32m   1103\u001b[0m         \u001b[0;31m# Do not call functions when jit is used\u001b[0m\u001b[0;34m\u001b[0m\u001b[0;34m\u001b[0m\u001b[0;34m\u001b[0m\u001b[0m\n\u001b[1;32m   1104\u001b[0m         \u001b[0mfull_backward_hooks\u001b[0m\u001b[0;34m,\u001b[0m \u001b[0mnon_full_backward_hooks\u001b[0m \u001b[0;34m=\u001b[0m \u001b[0;34m[\u001b[0m\u001b[0;34m]\u001b[0m\u001b[0;34m,\u001b[0m \u001b[0;34m[\u001b[0m\u001b[0;34m]\u001b[0m\u001b[0;34m\u001b[0m\u001b[0;34m\u001b[0m\u001b[0m\n",
      "\u001b[0;32m/anaconda/envs/azureml_py38_PT_TF/lib/python3.8/site-packages/torch/nn/modules/loss.py\u001b[0m in \u001b[0;36mforward\u001b[0;34m(self, input, target)\u001b[0m\n\u001b[1;32m   1148\u001b[0m \u001b[0;34m\u001b[0m\u001b[0m\n\u001b[1;32m   1149\u001b[0m     \u001b[0;32mdef\u001b[0m \u001b[0mforward\u001b[0m\u001b[0;34m(\u001b[0m\u001b[0mself\u001b[0m\u001b[0;34m,\u001b[0m \u001b[0minput\u001b[0m\u001b[0;34m:\u001b[0m \u001b[0mTensor\u001b[0m\u001b[0;34m,\u001b[0m \u001b[0mtarget\u001b[0m\u001b[0;34m:\u001b[0m \u001b[0mTensor\u001b[0m\u001b[0;34m)\u001b[0m \u001b[0;34m->\u001b[0m \u001b[0mTensor\u001b[0m\u001b[0;34m:\u001b[0m\u001b[0;34m\u001b[0m\u001b[0;34m\u001b[0m\u001b[0m\n\u001b[0;32m-> 1150\u001b[0;31m         return F.cross_entropy(input, target, weight=self.weight,\n\u001b[0m\u001b[1;32m   1151\u001b[0m                                \u001b[0mignore_index\u001b[0m\u001b[0;34m=\u001b[0m\u001b[0mself\u001b[0m\u001b[0;34m.\u001b[0m\u001b[0mignore_index\u001b[0m\u001b[0;34m,\u001b[0m \u001b[0mreduction\u001b[0m\u001b[0;34m=\u001b[0m\u001b[0mself\u001b[0m\u001b[0;34m.\u001b[0m\u001b[0mreduction\u001b[0m\u001b[0;34m,\u001b[0m\u001b[0;34m\u001b[0m\u001b[0;34m\u001b[0m\u001b[0m\n\u001b[1;32m   1152\u001b[0m                                label_smoothing=self.label_smoothing)\n",
      "\u001b[0;32m/anaconda/envs/azureml_py38_PT_TF/lib/python3.8/site-packages/torch/nn/functional.py\u001b[0m in \u001b[0;36mcross_entropy\u001b[0;34m(input, target, weight, size_average, ignore_index, reduce, reduction, label_smoothing)\u001b[0m\n\u001b[1;32m   2844\u001b[0m     \u001b[0;32mif\u001b[0m \u001b[0msize_average\u001b[0m \u001b[0;32mis\u001b[0m \u001b[0;32mnot\u001b[0m \u001b[0;32mNone\u001b[0m \u001b[0;32mor\u001b[0m \u001b[0mreduce\u001b[0m \u001b[0;32mis\u001b[0m \u001b[0;32mnot\u001b[0m \u001b[0;32mNone\u001b[0m\u001b[0;34m:\u001b[0m\u001b[0;34m\u001b[0m\u001b[0;34m\u001b[0m\u001b[0m\n\u001b[1;32m   2845\u001b[0m         \u001b[0mreduction\u001b[0m \u001b[0;34m=\u001b[0m \u001b[0m_Reduction\u001b[0m\u001b[0;34m.\u001b[0m\u001b[0mlegacy_get_string\u001b[0m\u001b[0;34m(\u001b[0m\u001b[0msize_average\u001b[0m\u001b[0;34m,\u001b[0m \u001b[0mreduce\u001b[0m\u001b[0;34m)\u001b[0m\u001b[0;34m\u001b[0m\u001b[0;34m\u001b[0m\u001b[0m\n\u001b[0;32m-> 2846\u001b[0;31m     \u001b[0;32mreturn\u001b[0m \u001b[0mtorch\u001b[0m\u001b[0;34m.\u001b[0m\u001b[0m_C\u001b[0m\u001b[0;34m.\u001b[0m\u001b[0m_nn\u001b[0m\u001b[0;34m.\u001b[0m\u001b[0mcross_entropy_loss\u001b[0m\u001b[0;34m(\u001b[0m\u001b[0minput\u001b[0m\u001b[0;34m,\u001b[0m \u001b[0mtarget\u001b[0m\u001b[0;34m,\u001b[0m \u001b[0mweight\u001b[0m\u001b[0;34m,\u001b[0m \u001b[0m_Reduction\u001b[0m\u001b[0;34m.\u001b[0m\u001b[0mget_enum\u001b[0m\u001b[0;34m(\u001b[0m\u001b[0mreduction\u001b[0m\u001b[0;34m)\u001b[0m\u001b[0;34m,\u001b[0m \u001b[0mignore_index\u001b[0m\u001b[0;34m,\u001b[0m \u001b[0mlabel_smoothing\u001b[0m\u001b[0;34m)\u001b[0m\u001b[0;34m\u001b[0m\u001b[0;34m\u001b[0m\u001b[0m\n\u001b[0m\u001b[1;32m   2847\u001b[0m \u001b[0;34m\u001b[0m\u001b[0m\n\u001b[1;32m   2848\u001b[0m \u001b[0;34m\u001b[0m\u001b[0m\n",
      "\u001b[0;31mRuntimeError\u001b[0m: Expected floating point type for target with class probabilities, got Long"
     ]
    }
   ],
   "source": [
    "epochs = 3\n",
    "val_loss_min = np.Inf\n",
    "model_name = 'ExoNet_Project1.pt'\n",
    "\n",
    "Train_loss_history = []\n",
    "Val_loss_history = []\n",
    "Train_accuracy_history = []\n",
    "Val_accuracy_history = []\n",
    "\n",
    "\n",
    "for epoch in range(epochs):\n",
    "    train_loss = 0.0\n",
    "    val_loss = 0.0\n",
    "    train_acc = 0.0\n",
    "    val_acc = 0.0\n",
    "    \n",
    "    model.train()\n",
    "    for images,labels,fnames in tqdm(train_loader):\n",
    "        optimizer.zero_grad()\n",
    "\n",
    "        preds = model(images)\n",
    "        loss = criterion(preds, labels)\n",
    "        loss.backward()\n",
    "        optimizer.step()\n",
    "        \n",
    "        train_loss += loss.item()\n",
    "        train_acc += accuracy(preds, labels)\n",
    "        \n",
    "   \n",
    "\n",
    "    avg_train_loss = train_loss / len(train_loader)\n",
    "    avg_train_acc = train_acc / len(train_loader)\n",
    "\n",
    "    model.eval()\n",
    "    with torch.no_grad():\n",
    "        for images,labels,fnames in tqdm(valid_loader):\n",
    "\n",
    "            preds = model(images)\n",
    "            loss = criterion(preds, labels)\n",
    "            val_loss += loss.item()\n",
    "            val_acc += accuracy(preds, labels)\n",
    "            \n",
    "         \n",
    "        \n",
    "        avg_val_loss = val_loss / len(valid_loader)\n",
    "        avg_val_acc = val_acc / len(valid_loader)\n",
    "\n",
    "    schedular.step(avg_val_loss)\n",
    "    \n",
    "    torch.sum(preds == labels)\n",
    "    Train_loss_history.append([train_loss])\n",
    "    Train_accuracy_history.append([train_acc])\n",
    "    Val_loss_history.append([val_loss])\n",
    "    Val_accuracy_history.append([val_acc])\n",
    "\n",
    "    print(\"Epoch : {} \\ntrain_loss : {:.6f}, \\tTrain_acc : {:.6f}, \\nVal_loss : {:.6f}, \\tVal_acc : {:.6f}\".format(epoch + 1,\n",
    "                                                                                                                   avg_train_loss, avg_train_acc,\n",
    "                                                                                                                   avg_val_loss, avg_val_acc))\n",
    "    if avg_val_loss <= val_loss_min:\n",
    "        print('Validation loss decreased from ({:.6f} --> {:.6f}).\\nSaving model ...'.format(val_loss_min, avg_val_loss))\n",
    "        torch.save(model.state_dict(), model_name)\n",
    "        val_loss_min = avg_val_loss\n",
    "    \n",
    "    print(train_acc)\n",
    "    print(val_acc)\n",
    "    Train_loss_history.append([train_loss])\n",
    "    Train_accuracy_history.append([train_acc])\n",
    "    Val_loss_history.append([val_loss])\n",
    "    Val_accuracy_history.append([val_acc])  \n",
    "    \n",
    "        \n",
    "print(\"training finished!\")"
   ]
  },
  {
   "cell_type": "markdown",
   "id": "981867fc",
   "metadata": {
    "id": "Glr-lDSXcGmW"
   },
   "source": [
    "Plot results for training and validation"
   ]
  },
  {
   "cell_type": "code",
   "execution_count": 33,
   "id": "a603b16d",
   "metadata": {},
   "outputs": [
    {
     "data": {
      "image/png": "[encoded data removed]",
      "text/plain": [
       "<Figure size 432x288 with 2 Axes>"
      ]
     },
     "metadata": {
      "needs_background": "light"
     },
     "output_type": "display_data"
    },
    {
     "data": {
      "image/png": "[encoded data removed]",
      "text/plain": [
       "<Figure size 432x288 with 2 Axes>"
      ]
     },
     "metadata": {
      "needs_background": "light"
     },
     "output_type": "display_data"
    }
   ],
   "source": [
    "plt.subplot(1, 2, 1)\n",
    "plt.plot(Val_loss_history)\n",
    "plt.ylabel('validation loss (error)')\n",
    "plt.xlabel('# of epochs')\n",
    "plt.title('validation')\n",
    "\n",
    "plt.subplot(1, 2, 2)\n",
    "plt.plot(Val_accuracy_history)\n",
    "plt.ylabel('validation accuracy')\n",
    "plt.xlabel('# of epochs')\n",
    "plt.title('validation')\n",
    "plt.figure(0)\n",
    "plt.tight_layout()\n",
    "\n",
    "plt.subplot(1, 2, 1)\n",
    "plt.plot(Train_loss_history)\n",
    "plt.ylabel('training loss (error)')\n",
    "plt.xlabel('# of epochs')\n",
    "plt.title('training')\n",
    "plt.subplot(1, 2, 2)\n",
    "plt.plot(Train_accuracy_history)\n",
    "plt.ylabel('training accuracy')\n",
    "plt.xlabel('# of epochs')\n",
    "plt.title('training')\n",
    "plt.figure(1)\n",
    "plt.tight_layout()"
   ]
  },
  {
   "cell_type": "code",
   "execution_count": 1,
   "id": "5b726506",
   "metadata": {},
   "outputs": [
    {
     "name": "stdout",
     "output_type": "stream",
     "text": [
      "Python 3.6.9 :: Anaconda, Inc.\n"
     ]
    }
   ],
   "source": [
    "epochs = 15\n",
    "val_loss_min = np.Inf\n",
    "model_name = 'ExoNet_Project1.pt'\n",
    "\n",
    "Train_loss_history = []\n",
    "Val_loss_history = []\n",
    "Train_accuracy_history = []\n",
    "Val_accuracy_history = []\n",
    "\n",
    "\n",
    "for epoch in range(epochs):\n",
    "    train_loss = 0.0\n",
    "    val_loss = 0.0\n",
    "    train_acc = 0.0\n",
    "    val_acc = 0.0\n",
    "    \n",
    "    model.train()\n",
    "    for images,labels,fnames in tqdm(train_loader):\n",
    "        optimizer.zero_grad()\n",
    "\n",
    "        preds = model(images)\n",
    "        loss = criterion(preds, labels)\n",
    "        loss.backward()\n",
    "        optimizer.step()\n",
    "\n",
    "        train_loss += loss.item()\n",
    "        train_acc += accuracy(preds, labels)\n",
    "        \n",
    "    Train_loss_history.append([epoch, train_loss])\n",
    "    Train_accuracy_history.append([epoch, train_acc])\n",
    "\n",
    "    avg_train_loss = train_loss / len(train_loader)\n",
    "    avg_train_acc = train_acc / len(train_loader)\n",
    "\n",
    "    model.eval()\n",
    "    with torch.no_grad():\n",
    "        for images,labels,fnames in tqdm(valid_loader):\n",
    "\n",
    "            preds = model(images)\n",
    "            loss = criterion(preds, labels)\n",
    "            val_loss += loss.item()\n",
    "            val_acc += accuracy(preds, labels)\n",
    "            \n",
    "        Val_loss_history.append([epoch, val_loss])\n",
    "        Val_accuracy_history.append([epoch, val_acc]) \n",
    "        \n",
    "        avg_val_loss = val_loss / len(valid_loader)\n",
    "        avg_val_acc = val_acc / len(valid_loader)\n",
    "\n",
    "    schedular.step(avg_val_loss)\n",
    "\n",
    "    print(\"Epoch : {} \\ntrain_loss : {:.6f}, \\tTrain_acc : {:.6f}, \\nVal_loss : {:.6f}, \\tVal_acc : {:.6f}\".format(epoch + 1,\n",
    "                                                                                                                   avg_train_loss, avg_train_acc,\n",
    "                                                                                                                   avg_val_loss, avg_val_acc))\n",
    "    if avg_val_loss <= val_loss_min:\n",
    "        print('Validation loss decreased from ({:.6f} --> {:.6f}).\\nSaving model ...'.format(val_loss_min, avg_val_loss))\n",
    "        torch.save(model.state_dict(), model_name)\n",
    "        val_loss_min = avg_val_loss\n",
    "    "
   ]
  },
  {
   "cell_type": "code",
   "execution_count": null,
   "id": "3272f739",
   "metadata": {},
   "outputs": [],
   "source": []
  },
  {
   "cell_type": "code",
   "execution_count": null,
   "id": "7d523dd2",
   "metadata": {},
   "outputs": [],
   "source": []
  }
 ],
 "metadata": {
  "kernelspec": {
   "display_name": "Python 3 (ipykernel)",
   "language": "python",
   "name": "python3"
  },
  "language_info": {
   "codemirror_mode": {
    "name": "ipython",
    "version": 3
   },
   "file_extension": ".py",
   "mimetype": "text/x-python",
   "name": "python",
   "nbconvert_exporter": "python",
   "pygments_lexer": "ipython3",
   "version": "3.8.12"
  }
 },
 "nbformat": 4,
 "nbformat_minor": 5
}
